{
  "nbformat": 4,
  "nbformat_minor": 0,
  "metadata": {
    "colab": {
      "name": "atividade13/04ipynb",
      "provenance": []
    },
    "kernelspec": {
      "name": "python3",
      "display_name": "Python 3"
    },
    "language_info": {
      "name": "python"
    }
  },
  "cells": [
    {
      "cell_type": "markdown",
      "metadata": {
        "id": "qSFjR-V8p-k1"
      },
      "source": [
        "## Importando bilioteca Bibliotecas"
      ]
    },
    {
      "cell_type": "code",
      "metadata": {
        "id": "CvcevCfT5b3R"
      },
      "source": [
        "!pip install boto3"
      ],
      "execution_count": null,
      "outputs": []
    },
    {
      "cell_type": "markdown",
      "metadata": {
        "id": "jlcMUQnNqKfV"
      },
      "source": [
        "## Acessando Nuvem AWS"
      ]
    },
    {
      "cell_type": "code",
      "metadata": {
        "id": "jNRIJQrQ6CUs"
      },
      "source": [
        "key= \"###########\"\n",
        "access= \"###########\"\n",
        "token= \"#############\""
      ],
      "execution_count": 2,
      "outputs": []
    },
    {
      "cell_type": "markdown",
      "metadata": {
        "id": "8sMjgo9qqYuW"
      },
      "source": [
        "## Importando Biblioteca boto 3"
      ]
    },
    {
      "cell_type": "code",
      "metadata": {
        "id": "y6D_O77I6RWj"
      },
      "source": [
        "# a bilbioteca boto3 permite acessar os serviços da AWS \n",
        "import boto3\n",
        "\n",
        "# Acessando o Dynamodb via biblioteca boto3\n",
        "dynamodb = boto3.resource('dynamodb', aws_access_key_id=key,\n",
        "                        aws_secret_access_key=access,\n",
        "                        aws_session_token=token\n",
        "                       ,region_name = \"us-east-1\", use_ssl=False)"
      ],
      "execution_count": 3,
      "outputs": []
    },
    {
      "cell_type": "code",
      "metadata": {
        "id": "KR6vAq2_6fD1"
      },
      "source": [
        "# Criando uma tabela não relacional no Dynamodb. \n",
        "\n",
        "table_name = 'funcionario' #Nome da tabela\n",
        "#Parametros de criação\n",
        "params = {\n",
        "        'TableName': table_name, #nome da tabela\n",
        "        #Esquema das chaves\n",
        "        'KeySchema': [\n",
        "            {'AttributeName': 'MATRICULA', 'KeyType': 'HASH'}, # hash será a chave primaria\n",
        "            {'AttributeName': 'VERSAO', 'KeyType': 'RANGE'} #range, não obrigatória, formaria uma chave composta\n",
        "        ],\n",
        "        #Tipo de dados da chave\n",
        "        'AttributeDefinitions': [ \n",
        "            {'AttributeName': 'MATRICULA', 'AttributeType': 'S'}, #S de string\n",
        "            {'AttributeName': 'VERSAO', 'AttributeType': 'N'} #N de number\n",
        "        ],\n",
        "        #Configuração de escrita e leitura por segundo\n",
        "        'ProvisionedThroughput': {\n",
        "            'ReadCapacityUnits': 3,\n",
        "            'WriteCapacityUnits': 3\n",
        "        }\n",
        "    }"
      ],
      "execution_count": null,
      "outputs": []
    },
    {
      "cell_type": "code",
      "metadata": {
        "colab": {
          "base_uri": "https://localhost:8080/"
        },
        "id": "tBZ99bBG8nCM",
        "outputId": "1eba23d2-fa1a-4019-f642-dcc3023f37f1"
      },
      "source": [
        "dynamodb.create_table(**params)"
      ],
      "execution_count": null,
      "outputs": [
        {
          "output_type": "execute_result",
          "data": {
            "text/plain": [
              "dynamodb.Table(name='funcionario')"
            ]
          },
          "metadata": {
            "tags": []
          },
          "execution_count": 15
        }
      ]
    },
    {
      "cell_type": "code",
      "metadata": {
        "colab": {
          "base_uri": "https://localhost:8080/"
        },
        "id": "fi2lW2ML_7iU",
        "outputId": "bd445570-2928-4eb0-9124-5a1b3a4fa5b6"
      },
      "source": [
        "dynamodb.Table(name='funcionario')"
      ],
      "execution_count": 6,
      "outputs": [
        {
          "output_type": "execute_result",
          "data": {
            "text/plain": [
              "dynamodb.Table(name='funcionario')"
            ]
          },
          "metadata": {
            "tags": []
          },
          "execution_count": 6
        }
      ]
    },
    {
      "cell_type": "markdown",
      "metadata": {
        "id": "99ednjeorQ7s"
      },
      "source": [
        "#### Inserindo valores manualmente."
      ]
    },
    {
      "cell_type": "code",
      "metadata": {
        "colab": {
          "base_uri": "https://localhost:8080/"
        },
        "id": "bk4YDD23_-7a",
        "outputId": "5aaa76d7-7518-427a-a1ab-c1295f302ec6"
      },
      "source": [
        "table = dynamodb.Table(\"funcionario\")\n",
        "table.put_item(\n",
        "   Item={\"MATRICULA\":'1010',\n",
        "        'VERSAO':1,\n",
        "        'NOME': 'CLAYTON SOUZA',\n",
        "        'CARGO': 'ANALISTA JUNIOR',\n",
        "        'TELEFONE': [\"22381823\",\"2291012\"],\n",
        "        'DATA_ATUALIZAÇÃO': '202120101',\n",
        "        'TIPO SANGUINIO':'A',\n",
        "        'CNH': '24343455324'\n",
        "    })"
      ],
      "execution_count": null,
      "outputs": [
        {
          "output_type": "execute_result",
          "data": {
            "text/plain": [
              "{'ResponseMetadata': {'HTTPHeaders': {'content-length': '2',\n",
              "   'content-type': 'application/x-amz-json-1.0',\n",
              "   'date': 'Wed, 14 Apr 2021 01:32:25 GMT',\n",
              "   'x-amz-crc32': '2745614147',\n",
              "   'x-amzn-requestid': 'FBU89DF6ERQHK6QLIG1HDP73P7VV4KQNSO5AEMVJF66Q9ASUAAJG'},\n",
              "  'HTTPStatusCode': 200,\n",
              "  'RequestId': 'FBU89DF6ERQHK6QLIG1HDP73P7VV4KQNSO5AEMVJF66Q9ASUAAJG',\n",
              "  'RetryAttempts': 0}}"
            ]
          },
          "metadata": {
            "tags": []
          },
          "execution_count": 17
        }
      ]
    },
    {
      "cell_type": "code",
      "metadata": {
        "colab": {
          "base_uri": "https://localhost:8080/"
        },
        "id": "fuFkEaqKpGxn",
        "outputId": "913410f5-0e79-4a5c-b405-679aa3c58ac0"
      },
      "source": [
        "table = dynamodb.Table(\"funcionario\")\n",
        "table.put_item(\n",
        "   Item={\"MATRICULA\":'1020',\n",
        "        'VERSAO':1,\n",
        "        'NOME': 'FERNANDES LIMA',\n",
        "        'CARGO': 'ENGENHEIRO',\n",
        "        'TELEFONE': [\"953434343\"],\n",
        "        'DATA_ATUALIZAÇÃO': '202120101',\n",
        "        'TIPO SANGUINIO':'',\n",
        "        'CNH': '1121323213'\n",
        "           })"
      ],
      "execution_count": 7,
      "outputs": [
        {
          "output_type": "execute_result",
          "data": {
            "text/plain": [
              "{'ResponseMetadata': {'HTTPHeaders': {'content-length': '2',\n",
              "   'content-type': 'application/x-amz-json-1.0',\n",
              "   'date': 'Wed, 14 Apr 2021 23:09:14 GMT',\n",
              "   'x-amz-crc32': '2745614147',\n",
              "   'x-amzn-requestid': '5MFGO1AJNB7O5IA6QJFSE1FOPNVV4KQNSO5AEMVJF66Q9ASUAAJG'},\n",
              "  'HTTPStatusCode': 200,\n",
              "  'RequestId': '5MFGO1AJNB7O5IA6QJFSE1FOPNVV4KQNSO5AEMVJF66Q9ASUAAJG',\n",
              "  'RetryAttempts': 0}}"
            ]
          },
          "metadata": {
            "tags": []
          },
          "execution_count": 7
        }
      ]
    },
    {
      "cell_type": "code",
      "metadata": {
        "colab": {
          "base_uri": "https://localhost:8080/"
        },
        "id": "LyA6MOrVpZOT",
        "outputId": "0fa9728e-cfc3-46f0-a7a3-f1063273353a"
      },
      "source": [
        "table = dynamodb.Table(\"funcionario\")\n",
        "table.put_item(\n",
        "   Item={\"MATRICULA\":'1030',\n",
        "        'VERSAO':1,\n",
        "        'NOME': 'JONA LANDO',\n",
        "        'CARGO': 'TECNICO INFO',\n",
        "        'TELEFONE': [\"953434344\"],\n",
        "        'DATA_ATUALIZAÇÃO': '202120101',\n",
        "        'TIPO SANGUINIO':'O',\n",
        "        'CNH': '243434544653'\n",
        "    })"
      ],
      "execution_count": 8,
      "outputs": [
        {
          "output_type": "execute_result",
          "data": {
            "text/plain": [
              "{'ResponseMetadata': {'HTTPHeaders': {'content-length': '2',\n",
              "   'content-type': 'application/x-amz-json-1.0',\n",
              "   'date': 'Wed, 14 Apr 2021 23:09:34 GMT',\n",
              "   'x-amz-crc32': '2745614147',\n",
              "   'x-amzn-requestid': '854FF5J7R04CTO5J2JICU50UB7VV4KQNSO5AEMVJF66Q9ASUAAJG'},\n",
              "  'HTTPStatusCode': 200,\n",
              "  'RequestId': '854FF5J7R04CTO5J2JICU50UB7VV4KQNSO5AEMVJF66Q9ASUAAJG',\n",
              "  'RetryAttempts': 0}}"
            ]
          },
          "metadata": {
            "tags": []
          },
          "execution_count": 8
        }
      ]
    },
    {
      "cell_type": "code",
      "metadata": {
        "colab": {
          "base_uri": "https://localhost:8080/"
        },
        "id": "C6VKdP6cpfaD",
        "outputId": "9203af6f-a06e-438b-830c-3e178a65f07d"
      },
      "source": [
        "table = dynamodb.Table(\"funcionario\")\n",
        "table.put_item(\n",
        "   Item={\"MATRICULA\":'1040',\n",
        "        'VERSAO':1,\n",
        "        'NOME': 'JOAO SILVA',\n",
        "        'CARGO': 'ANALISTA SENIOR',\n",
        "        'TELEFONE': [\"953434322\"],\n",
        "        'DATA_ATUALIZAÇÃO': '202120101',\n",
        "        'TIPO SANGUINIO':'',\n",
        "        'CNH': ' '\n",
        "    })"
      ],
      "execution_count": 9,
      "outputs": [
        {
          "output_type": "execute_result",
          "data": {
            "text/plain": [
              "{'ResponseMetadata': {'HTTPHeaders': {'content-length': '2',\n",
              "   'content-type': 'application/x-amz-json-1.0',\n",
              "   'date': 'Wed, 14 Apr 2021 23:09:59 GMT',\n",
              "   'x-amz-crc32': '2745614147',\n",
              "   'x-amzn-requestid': '4LQHMTF5U7S1RRP1E5MOL9UT3RVV4KQNSO5AEMVJF66Q9ASUAAJG'},\n",
              "  'HTTPStatusCode': 200,\n",
              "  'RequestId': '4LQHMTF5U7S1RRP1E5MOL9UT3RVV4KQNSO5AEMVJF66Q9ASUAAJG',\n",
              "  'RetryAttempts': 0}}"
            ]
          },
          "metadata": {
            "tags": []
          },
          "execution_count": 9
        }
      ]
    },
    {
      "cell_type": "code",
      "metadata": {
        "colab": {
          "base_uri": "https://localhost:8080/"
        },
        "id": "Tr7UHtDFpmI4",
        "outputId": "e23c855c-88dc-4377-b735-2292d3fd37ea"
      },
      "source": [
        "table = dynamodb.Table(\"funcionario\")\n",
        "table.put_item(\n",
        "   Item={\"MATRICULA\":'1010',\n",
        "        'VERSAO':2,\n",
        "        'NOME': 'CLAYTON SOUZA',\n",
        "        'CARGO': 'ANALISTA PLENO',\n",
        "        'TELEFONE': [\"22381823\",\"2291012\"],\n",
        "        'DATA_ATUALIZAÇÃO': '202120101',\n",
        "        'TIPO SANGUINIO':'B',\n",
        "        'CNH': '343243232'\n",
        "    })"
      ],
      "execution_count": 10,
      "outputs": [
        {
          "output_type": "execute_result",
          "data": {
            "text/plain": [
              "{'ResponseMetadata': {'HTTPHeaders': {'content-length': '2',\n",
              "   'content-type': 'application/x-amz-json-1.0',\n",
              "   'date': 'Wed, 14 Apr 2021 23:10:25 GMT',\n",
              "   'x-amz-crc32': '2745614147',\n",
              "   'x-amzn-requestid': 'MLSP7O0IU6P4PRHPJHKS4ONJU7VV4KQNSO5AEMVJF66Q9ASUAAJG'},\n",
              "  'HTTPStatusCode': 200,\n",
              "  'RequestId': 'MLSP7O0IU6P4PRHPJHKS4ONJU7VV4KQNSO5AEMVJF66Q9ASUAAJG',\n",
              "  'RetryAttempts': 0}}"
            ]
          },
          "metadata": {
            "tags": []
          },
          "execution_count": 10
        }
      ]
    }
  ]
}